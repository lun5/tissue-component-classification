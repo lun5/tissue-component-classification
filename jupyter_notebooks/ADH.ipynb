{
 "cells": [
  {
   "cell_type": "code",
   "execution_count": 2,
   "metadata": {
    "collapsed": false
   },
   "outputs": [],
   "source": [
    "from scipy.stats import mode\n",
    "import sqlite3, csv, os\n",
    "from sqlalchemy import (Boolean, Column, Enum, ForeignKey, Integer, String,PickleType,MetaData,\n",
    "                        Float,Table, UniqueConstraint, create_engine)\n",
    "from sqlalchemy import (not_, select,and_) \n",
    "from datetime import datetime\n",
    "from sqlalchemy import *\n",
    "from sqlalchemy.dialects.postgresql import ARRAY\n",
    "from sklearn import datasets\n",
    "from sklearn import *\n",
    "# from sklearn.model_selection import train_test_split\n",
    "from numpy import genfromtxt\n",
    "import numpy as np\n",
    "import time\n",
    "from scipy.spatial.distance import cdist, pdist\n",
    "from sklearn.decomposition import PCA\n",
    "from scipy.spatial.distance import cdist, pdist\n",
    "from sklearn.cluster import KMeans\n",
    "from sklearn.cluster import MiniBatchKMeans\n",
    "from sklearn import preprocessing\n",
    "from sklearn.metrics import silhouette_samples, silhouette_score, accuracy_score\n",
    "from mpl_toolkits.mplot3d import Axes3D\n",
    "from matplotlib.colors import LogNorm\n",
    "# from sklearn import model_selection\n",
    "import time\n",
    "import numpy as np\n",
    "import matplotlib.pyplot as plt\n",
    "import matplotlib\n",
    "from matplotlib.colors import ListedColormap\n",
    "%matplotlib inline\n",
    "plt.rcParams['figure.figsize'] = (10.0, 8.0) # set default size of plots\n",
    "plt.rcParams['image.interpolation'] = 'nearest'\n",
    "plt.rcParams['image.cmap'] = 'gray'\n",
    "# from unsupervised_alt import *\n",
    "from scipy import interp\n",
    "from itertools import cycle\n",
    "from sklearn.metrics import roc_curve, auc\n",
    "from sklearn.model_selection import StratifiedKFold\n",
    "import pandas as pd\n",
    "import scipy"
   ]
  },
  {
   "cell_type": "markdown",
   "metadata": {},
   "source": [
    "## Read in label data"
   ]
  },
  {
   "cell_type": "code",
   "execution_count": 3,
   "metadata": {
    "collapsed": false
   },
   "outputs": [],
   "source": [
    "data_dir = '/home/lun5/ADH/'\n",
    "label_fname = 'Jeff_annotations_ADHAllSets.csv'\n",
    "label_files = pd.read_csv(os.path.join(data_dir,label_fname))\n",
    "# omit 'Dont know' and 'Other'\n",
    "label_files = label_files.loc[label_files.Score.isin(['Normal Duct','Columnar', 'ADH', 'Flat Epithelial'])]"
   ]
  },
  {
   "cell_type": "code",
   "execution_count": 124,
   "metadata": {
    "collapsed": false
   },
   "outputs": [
    {
     "data": {
      "text/plain": [
       "Participant             Jeff Fine\n",
       "Image          adh08-1c_seg14.jpg\n",
       "Score                 Normal Duct\n",
       "FolderName               adh08-1c\n",
       "Name: 1, dtype: object"
      ]
     },
     "execution_count": 124,
     "metadata": {},
     "output_type": "execute_result"
    }
   ],
   "source": [
    "label_files.loc[1,:]"
   ]
  },
  {
   "cell_type": "code",
   "execution_count": 4,
   "metadata": {
    "collapsed": true
   },
   "outputs": [],
   "source": [
    "from sklearn.model_selection import StratifiedKFold\n",
    "skf = StratifiedKFold(n_splits = 5)\n",
    "train_index, test_index = skf.split(xrange(len(label_files)), label_files['Score']).next()"
   ]
  },
  {
   "cell_type": "code",
   "execution_count": 16,
   "metadata": {
    "collapsed": false
   },
   "outputs": [
    {
     "name": "stdout",
     "output_type": "stream",
     "text": [
      "whole data\n",
      "Score\n",
      "ADH                190\n",
      "Columnar           287\n",
      "Flat Epithelial    180\n",
      "Normal Duct        812\n",
      "dtype: int64\n",
      "\n",
      "Train set:  1174  ROIs\n",
      "Score\n",
      "ADH                152\n",
      "Columnar           229\n",
      "Flat Epithelial    144\n",
      "Normal Duct        649\n",
      "dtype: int64\n",
      "\n",
      "Test set:  295  ROIs\n",
      "Score\n",
      "ADH                 38\n",
      "Columnar            58\n",
      "Flat Epithelial     36\n",
      "Normal Duct        163\n",
      "dtype: int64\n"
     ]
    }
   ],
   "source": [
    "train_df = label_files.iloc[train_index]\n",
    "test_df = label_files.iloc[test_index]\n",
    "print 'whole data'\n",
    "print label_files.groupby(['Score'], as_index=False).size()\n",
    "print '\\nTrain set: ', len(train_df), ' ROIs'\n",
    "print train_df.groupby(['Score'], as_index=False).size()\n",
    "print '\\nTest set: ', len(test_df), ' ROIs'\n",
    "print test_df.groupby(['Score'], as_index=False).size()\n",
    "train_df.to_csv(os.path.join(data_dir,'ADH_4classes_train.csv'))\n",
    "test_df.to_csv(os.path.join(data_dir,'ADH_4classes_test.csv'))"
   ]
  },
  {
   "cell_type": "code",
   "execution_count": 19,
   "metadata": {
    "collapsed": true
   },
   "outputs": [
    {
     "data": {
      "text/html": [
       "<div>\n",
       "<table border=\"1\" class=\"dataframe\">\n",
       "  <thead>\n",
       "    <tr style=\"text-align: right;\">\n",
       "      <th></th>\n",
       "      <th>Participant</th>\n",
       "      <th>Image</th>\n",
       "      <th>Score</th>\n",
       "      <th>FolderName</th>\n",
       "      <th>isADH</th>\n",
       "      <th>isMalignant</th>\n",
       "    </tr>\n",
       "  </thead>\n",
       "  <tbody>\n",
       "    <tr>\n",
       "      <th>1</th>\n",
       "      <td>Jeff Fine</td>\n",
       "      <td>adh08-1c_seg14.jpg</td>\n",
       "      <td>Normal Duct</td>\n",
       "      <td>adh08-1c</td>\n",
       "      <td>False</td>\n",
       "      <td>False</td>\n",
       "    </tr>\n",
       "    <tr>\n",
       "      <th>2</th>\n",
       "      <td>Jeff Fine</td>\n",
       "      <td>adh04-1a_seg7.jpg</td>\n",
       "      <td>Normal Duct</td>\n",
       "      <td>adh04-1a</td>\n",
       "      <td>False</td>\n",
       "      <td>False</td>\n",
       "    </tr>\n",
       "    <tr>\n",
       "      <th>3</th>\n",
       "      <td>Jeff Fine</td>\n",
       "      <td>adh03-2a_seg53.jpg</td>\n",
       "      <td>Columnar</td>\n",
       "      <td>adh03-2a</td>\n",
       "      <td>False</td>\n",
       "      <td>False</td>\n",
       "    </tr>\n",
       "    <tr>\n",
       "      <th>5</th>\n",
       "      <td>Jeff Fine</td>\n",
       "      <td>adh07-2a_seg4.jpg</td>\n",
       "      <td>Normal Duct</td>\n",
       "      <td>adh07-2a</td>\n",
       "      <td>False</td>\n",
       "      <td>False</td>\n",
       "    </tr>\n",
       "    <tr>\n",
       "      <th>7</th>\n",
       "      <td>Jeff Fine</td>\n",
       "      <td>adh03-2a_seg200.jpg</td>\n",
       "      <td>Columnar</td>\n",
       "      <td>adh03-2a</td>\n",
       "      <td>False</td>\n",
       "      <td>False</td>\n",
       "    </tr>\n",
       "    <tr>\n",
       "      <th>8</th>\n",
       "      <td>Jeff Fine</td>\n",
       "      <td>adh07-1c_seg4.jpg</td>\n",
       "      <td>ADH</td>\n",
       "      <td>adh07-1c</td>\n",
       "      <td>True</td>\n",
       "      <td>True</td>\n",
       "    </tr>\n",
       "    <tr>\n",
       "      <th>9</th>\n",
       "      <td>Jeff Fine</td>\n",
       "      <td>adh08-1c_seg45.jpg</td>\n",
       "      <td>Flat Epithelial</td>\n",
       "      <td>adh08-1c</td>\n",
       "      <td>False</td>\n",
       "      <td>True</td>\n",
       "    </tr>\n",
       "    <tr>\n",
       "      <th>10</th>\n",
       "      <td>Jeff Fine</td>\n",
       "      <td>adh06-1b_seg138.jpg</td>\n",
       "      <td>Columnar</td>\n",
       "      <td>adh06-1b</td>\n",
       "      <td>False</td>\n",
       "      <td>False</td>\n",
       "    </tr>\n",
       "    <tr>\n",
       "      <th>11</th>\n",
       "      <td>Jeff Fine</td>\n",
       "      <td>adh08-1b_seg77.jpg</td>\n",
       "      <td>Columnar</td>\n",
       "      <td>adh08-1b</td>\n",
       "      <td>False</td>\n",
       "      <td>False</td>\n",
       "    </tr>\n",
       "    <tr>\n",
       "      <th>12</th>\n",
       "      <td>Jeff Fine</td>\n",
       "      <td>adh07-1b_seg156.jpg</td>\n",
       "      <td>Normal Duct</td>\n",
       "      <td>adh07-1b</td>\n",
       "      <td>False</td>\n",
       "      <td>False</td>\n",
       "    </tr>\n",
       "    <tr>\n",
       "      <th>13</th>\n",
       "      <td>Jeff Fine</td>\n",
       "      <td>adh04-1a_seg17.jpg</td>\n",
       "      <td>Normal Duct</td>\n",
       "      <td>adh04-1a</td>\n",
       "      <td>False</td>\n",
       "      <td>False</td>\n",
       "    </tr>\n",
       "    <tr>\n",
       "      <th>16</th>\n",
       "      <td>Jeff Fine</td>\n",
       "      <td>adh04-1c_seg5.jpg</td>\n",
       "      <td>Columnar</td>\n",
       "      <td>adh04-1c</td>\n",
       "      <td>False</td>\n",
       "      <td>False</td>\n",
       "    </tr>\n",
       "    <tr>\n",
       "      <th>18</th>\n",
       "      <td>Jeff Fine</td>\n",
       "      <td>adh08-1c_seg17.jpg</td>\n",
       "      <td>Columnar</td>\n",
       "      <td>adh08-1c</td>\n",
       "      <td>False</td>\n",
       "      <td>False</td>\n",
       "    </tr>\n",
       "    <tr>\n",
       "      <th>19</th>\n",
       "      <td>Jeff Fine</td>\n",
       "      <td>adh07-2a_seg41.jpg</td>\n",
       "      <td>Flat Epithelial</td>\n",
       "      <td>adh07-2a</td>\n",
       "      <td>False</td>\n",
       "      <td>True</td>\n",
       "    </tr>\n",
       "    <tr>\n",
       "      <th>20</th>\n",
       "      <td>Jeff Fine</td>\n",
       "      <td>adh08-1c_seg35.jpg</td>\n",
       "      <td>Normal Duct</td>\n",
       "      <td>adh08-1c</td>\n",
       "      <td>False</td>\n",
       "      <td>False</td>\n",
       "    </tr>\n",
       "    <tr>\n",
       "      <th>22</th>\n",
       "      <td>Jeff Fine</td>\n",
       "      <td>adh05-1a_seg7.jpg</td>\n",
       "      <td>Normal Duct</td>\n",
       "      <td>adh05-1a</td>\n",
       "      <td>False</td>\n",
       "      <td>False</td>\n",
       "    </tr>\n",
       "    <tr>\n",
       "      <th>23</th>\n",
       "      <td>Jeff Fine</td>\n",
       "      <td>adh04-1a_seg18.jpg</td>\n",
       "      <td>Normal Duct</td>\n",
       "      <td>adh04-1a</td>\n",
       "      <td>False</td>\n",
       "      <td>False</td>\n",
       "    </tr>\n",
       "    <tr>\n",
       "      <th>24</th>\n",
       "      <td>Jeff Fine</td>\n",
       "      <td>adh07-1b_seg179.jpg</td>\n",
       "      <td>Normal Duct</td>\n",
       "      <td>adh07-1b</td>\n",
       "      <td>False</td>\n",
       "      <td>False</td>\n",
       "    </tr>\n",
       "    <tr>\n",
       "      <th>25</th>\n",
       "      <td>Jeff Fine</td>\n",
       "      <td>adh07-1a_seg15.jpg</td>\n",
       "      <td>ADH</td>\n",
       "      <td>adh07-1a</td>\n",
       "      <td>True</td>\n",
       "      <td>True</td>\n",
       "    </tr>\n",
       "    <tr>\n",
       "      <th>26</th>\n",
       "      <td>Jeff Fine</td>\n",
       "      <td>adh05-1a_seg14.jpg</td>\n",
       "      <td>Columnar</td>\n",
       "      <td>adh05-1a</td>\n",
       "      <td>False</td>\n",
       "      <td>False</td>\n",
       "    </tr>\n",
       "    <tr>\n",
       "      <th>27</th>\n",
       "      <td>Jeff Fine</td>\n",
       "      <td>adh08-1c_seg16.jpg</td>\n",
       "      <td>Normal Duct</td>\n",
       "      <td>adh08-1c</td>\n",
       "      <td>False</td>\n",
       "      <td>False</td>\n",
       "    </tr>\n",
       "    <tr>\n",
       "      <th>28</th>\n",
       "      <td>Jeff Fine</td>\n",
       "      <td>adh08-1c_seg26.jpg</td>\n",
       "      <td>Normal Duct</td>\n",
       "      <td>adh08-1c</td>\n",
       "      <td>False</td>\n",
       "      <td>False</td>\n",
       "    </tr>\n",
       "    <tr>\n",
       "      <th>29</th>\n",
       "      <td>Jeff Fine</td>\n",
       "      <td>adh04-1b_seg3.jpg</td>\n",
       "      <td>Flat Epithelial</td>\n",
       "      <td>adh04-1b</td>\n",
       "      <td>False</td>\n",
       "      <td>True</td>\n",
       "    </tr>\n",
       "    <tr>\n",
       "      <th>30</th>\n",
       "      <td>Jeff Fine</td>\n",
       "      <td>adh08-1b_seg31.jpg</td>\n",
       "      <td>Normal Duct</td>\n",
       "      <td>adh08-1b</td>\n",
       "      <td>False</td>\n",
       "      <td>False</td>\n",
       "    </tr>\n",
       "    <tr>\n",
       "      <th>31</th>\n",
       "      <td>Jeff Fine</td>\n",
       "      <td>adh04-1a_seg11.jpg</td>\n",
       "      <td>Normal Duct</td>\n",
       "      <td>adh04-1a</td>\n",
       "      <td>False</td>\n",
       "      <td>False</td>\n",
       "    </tr>\n",
       "    <tr>\n",
       "      <th>32</th>\n",
       "      <td>Jeff Fine</td>\n",
       "      <td>adh07-2a_seg46.jpg</td>\n",
       "      <td>Flat Epithelial</td>\n",
       "      <td>adh07-2a</td>\n",
       "      <td>False</td>\n",
       "      <td>True</td>\n",
       "    </tr>\n",
       "    <tr>\n",
       "      <th>33</th>\n",
       "      <td>Jeff Fine</td>\n",
       "      <td>adh04-1a_seg16.jpg</td>\n",
       "      <td>Normal Duct</td>\n",
       "      <td>adh04-1a</td>\n",
       "      <td>False</td>\n",
       "      <td>False</td>\n",
       "    </tr>\n",
       "    <tr>\n",
       "      <th>34</th>\n",
       "      <td>Jeff Fine</td>\n",
       "      <td>adh08-1b_seg65.jpg</td>\n",
       "      <td>Normal Duct</td>\n",
       "      <td>adh08-1b</td>\n",
       "      <td>False</td>\n",
       "      <td>False</td>\n",
       "    </tr>\n",
       "    <tr>\n",
       "      <th>35</th>\n",
       "      <td>Jeff Fine</td>\n",
       "      <td>adh07-1b_seg12.jpg</td>\n",
       "      <td>Normal Duct</td>\n",
       "      <td>adh07-1b</td>\n",
       "      <td>False</td>\n",
       "      <td>False</td>\n",
       "    </tr>\n",
       "    <tr>\n",
       "      <th>37</th>\n",
       "      <td>Jeff Fine</td>\n",
       "      <td>adh07-2a_seg22.jpg</td>\n",
       "      <td>Normal Duct</td>\n",
       "      <td>adh07-2a</td>\n",
       "      <td>False</td>\n",
       "      <td>False</td>\n",
       "    </tr>\n",
       "    <tr>\n",
       "      <th>...</th>\n",
       "      <td>...</td>\n",
       "      <td>...</td>\n",
       "      <td>...</td>\n",
       "      <td>...</td>\n",
       "      <td>...</td>\n",
       "      <td>...</td>\n",
       "    </tr>\n",
       "    <tr>\n",
       "      <th>1720</th>\n",
       "      <td>Jeff Fine</td>\n",
       "      <td>adh47-1a_seg40.jpg</td>\n",
       "      <td>Flat Epithelial</td>\n",
       "      <td>adh47-1a</td>\n",
       "      <td>False</td>\n",
       "      <td>True</td>\n",
       "    </tr>\n",
       "    <tr>\n",
       "      <th>1724</th>\n",
       "      <td>Jeff Fine</td>\n",
       "      <td>adh48-1a_seg12.jpg</td>\n",
       "      <td>Normal Duct</td>\n",
       "      <td>adh48-1a</td>\n",
       "      <td>False</td>\n",
       "      <td>False</td>\n",
       "    </tr>\n",
       "    <tr>\n",
       "      <th>1725</th>\n",
       "      <td>Jeff Fine</td>\n",
       "      <td>adh48-1a_seg17.jpg</td>\n",
       "      <td>Normal Duct</td>\n",
       "      <td>adh48-1a</td>\n",
       "      <td>False</td>\n",
       "      <td>False</td>\n",
       "    </tr>\n",
       "    <tr>\n",
       "      <th>1726</th>\n",
       "      <td>Jeff Fine</td>\n",
       "      <td>adh46-2b_seg12.jpg</td>\n",
       "      <td>Normal Duct</td>\n",
       "      <td>adh46-2b</td>\n",
       "      <td>False</td>\n",
       "      <td>False</td>\n",
       "    </tr>\n",
       "    <tr>\n",
       "      <th>1727</th>\n",
       "      <td>Jeff Fine</td>\n",
       "      <td>adh46-2a_seg40.jpg</td>\n",
       "      <td>Normal Duct</td>\n",
       "      <td>adh46-2a</td>\n",
       "      <td>False</td>\n",
       "      <td>False</td>\n",
       "    </tr>\n",
       "    <tr>\n",
       "      <th>1728</th>\n",
       "      <td>Jeff Fine</td>\n",
       "      <td>adh46-2b_seg16.jpg</td>\n",
       "      <td>Normal Duct</td>\n",
       "      <td>adh46-2b</td>\n",
       "      <td>False</td>\n",
       "      <td>False</td>\n",
       "    </tr>\n",
       "    <tr>\n",
       "      <th>1729</th>\n",
       "      <td>Jeff Fine</td>\n",
       "      <td>adh46-2a_seg25.jpg</td>\n",
       "      <td>Normal Duct</td>\n",
       "      <td>adh46-2a</td>\n",
       "      <td>False</td>\n",
       "      <td>False</td>\n",
       "    </tr>\n",
       "    <tr>\n",
       "      <th>1730</th>\n",
       "      <td>Jeff Fine</td>\n",
       "      <td>adh45-6c_seg22.jpg</td>\n",
       "      <td>Normal Duct</td>\n",
       "      <td>adh45-6c</td>\n",
       "      <td>False</td>\n",
       "      <td>False</td>\n",
       "    </tr>\n",
       "    <tr>\n",
       "      <th>1731</th>\n",
       "      <td>Jeff Fine</td>\n",
       "      <td>adh47-1b_seg5.jpg</td>\n",
       "      <td>ADH</td>\n",
       "      <td>adh47-1b</td>\n",
       "      <td>True</td>\n",
       "      <td>True</td>\n",
       "    </tr>\n",
       "    <tr>\n",
       "      <th>1732</th>\n",
       "      <td>Jeff Fine</td>\n",
       "      <td>adh47-1a_seg61.jpg</td>\n",
       "      <td>ADH</td>\n",
       "      <td>adh47-1a</td>\n",
       "      <td>True</td>\n",
       "      <td>True</td>\n",
       "    </tr>\n",
       "    <tr>\n",
       "      <th>1733</th>\n",
       "      <td>Jeff Fine</td>\n",
       "      <td>adh47-1a_seg25.jpg</td>\n",
       "      <td>Normal Duct</td>\n",
       "      <td>adh47-1a</td>\n",
       "      <td>False</td>\n",
       "      <td>False</td>\n",
       "    </tr>\n",
       "    <tr>\n",
       "      <th>1734</th>\n",
       "      <td>Jeff Fine</td>\n",
       "      <td>adh48-1a_seg6.jpg</td>\n",
       "      <td>Normal Duct</td>\n",
       "      <td>adh48-1a</td>\n",
       "      <td>False</td>\n",
       "      <td>False</td>\n",
       "    </tr>\n",
       "    <tr>\n",
       "      <th>1735</th>\n",
       "      <td>Jeff Fine</td>\n",
       "      <td>adh47-1b_seg4.jpg</td>\n",
       "      <td>Normal Duct</td>\n",
       "      <td>adh47-1b</td>\n",
       "      <td>False</td>\n",
       "      <td>False</td>\n",
       "    </tr>\n",
       "    <tr>\n",
       "      <th>1736</th>\n",
       "      <td>Jeff Fine</td>\n",
       "      <td>adh48-1a_seg3.jpg</td>\n",
       "      <td>ADH</td>\n",
       "      <td>adh48-1a</td>\n",
       "      <td>True</td>\n",
       "      <td>True</td>\n",
       "    </tr>\n",
       "    <tr>\n",
       "      <th>1738</th>\n",
       "      <td>Jeff Fine</td>\n",
       "      <td>adh47-1a_seg64.jpg</td>\n",
       "      <td>Flat Epithelial</td>\n",
       "      <td>adh47-1a</td>\n",
       "      <td>False</td>\n",
       "      <td>True</td>\n",
       "    </tr>\n",
       "    <tr>\n",
       "      <th>1739</th>\n",
       "      <td>Jeff Fine</td>\n",
       "      <td>adh45-6c_seg14.jpg</td>\n",
       "      <td>Normal Duct</td>\n",
       "      <td>adh45-6c</td>\n",
       "      <td>False</td>\n",
       "      <td>False</td>\n",
       "    </tr>\n",
       "    <tr>\n",
       "      <th>1740</th>\n",
       "      <td>Jeff Fine</td>\n",
       "      <td>adh46-2b_seg21.jpg</td>\n",
       "      <td>Normal Duct</td>\n",
       "      <td>adh46-2b</td>\n",
       "      <td>False</td>\n",
       "      <td>False</td>\n",
       "    </tr>\n",
       "    <tr>\n",
       "      <th>1741</th>\n",
       "      <td>Jeff Fine</td>\n",
       "      <td>adh47-1a_seg39.jpg</td>\n",
       "      <td>ADH</td>\n",
       "      <td>adh47-1a</td>\n",
       "      <td>True</td>\n",
       "      <td>True</td>\n",
       "    </tr>\n",
       "    <tr>\n",
       "      <th>1742</th>\n",
       "      <td>Jeff Fine</td>\n",
       "      <td>adh48-1a_seg26.jpg</td>\n",
       "      <td>Normal Duct</td>\n",
       "      <td>adh48-1a</td>\n",
       "      <td>False</td>\n",
       "      <td>False</td>\n",
       "    </tr>\n",
       "    <tr>\n",
       "      <th>1743</th>\n",
       "      <td>Jeff Fine</td>\n",
       "      <td>adh47-1b_seg13.jpg</td>\n",
       "      <td>Normal Duct</td>\n",
       "      <td>adh47-1b</td>\n",
       "      <td>False</td>\n",
       "      <td>False</td>\n",
       "    </tr>\n",
       "    <tr>\n",
       "      <th>1745</th>\n",
       "      <td>Jeff Fine</td>\n",
       "      <td>adh46-2a_seg8.jpg</td>\n",
       "      <td>Normal Duct</td>\n",
       "      <td>adh46-2a</td>\n",
       "      <td>False</td>\n",
       "      <td>False</td>\n",
       "    </tr>\n",
       "    <tr>\n",
       "      <th>1746</th>\n",
       "      <td>Jeff Fine</td>\n",
       "      <td>adh48-1a_seg28.jpg</td>\n",
       "      <td>Normal Duct</td>\n",
       "      <td>adh48-1a</td>\n",
       "      <td>False</td>\n",
       "      <td>False</td>\n",
       "    </tr>\n",
       "    <tr>\n",
       "      <th>1747</th>\n",
       "      <td>Jeff Fine</td>\n",
       "      <td>adh47-1b_seg19.jpg</td>\n",
       "      <td>Normal Duct</td>\n",
       "      <td>adh47-1b</td>\n",
       "      <td>False</td>\n",
       "      <td>False</td>\n",
       "    </tr>\n",
       "    <tr>\n",
       "      <th>1748</th>\n",
       "      <td>Jeff Fine</td>\n",
       "      <td>adh45-6c_seg4.jpg</td>\n",
       "      <td>Normal Duct</td>\n",
       "      <td>adh45-6c</td>\n",
       "      <td>False</td>\n",
       "      <td>False</td>\n",
       "    </tr>\n",
       "    <tr>\n",
       "      <th>1750</th>\n",
       "      <td>Jeff Fine</td>\n",
       "      <td>adh46-2a_seg36.jpg</td>\n",
       "      <td>Normal Duct</td>\n",
       "      <td>adh46-2a</td>\n",
       "      <td>False</td>\n",
       "      <td>False</td>\n",
       "    </tr>\n",
       "    <tr>\n",
       "      <th>1753</th>\n",
       "      <td>Jeff Fine</td>\n",
       "      <td>adh48-1a_seg29.jpg</td>\n",
       "      <td>Columnar</td>\n",
       "      <td>adh48-1a</td>\n",
       "      <td>False</td>\n",
       "      <td>False</td>\n",
       "    </tr>\n",
       "    <tr>\n",
       "      <th>1755</th>\n",
       "      <td>Jeff Fine</td>\n",
       "      <td>adh46-2a_seg22.jpg</td>\n",
       "      <td>Normal Duct</td>\n",
       "      <td>adh46-2a</td>\n",
       "      <td>False</td>\n",
       "      <td>False</td>\n",
       "    </tr>\n",
       "    <tr>\n",
       "      <th>1756</th>\n",
       "      <td>Jeff Fine</td>\n",
       "      <td>adh46-2a_seg21.jpg</td>\n",
       "      <td>Normal Duct</td>\n",
       "      <td>adh46-2a</td>\n",
       "      <td>False</td>\n",
       "      <td>False</td>\n",
       "    </tr>\n",
       "    <tr>\n",
       "      <th>1757</th>\n",
       "      <td>Jeff Fine</td>\n",
       "      <td>adh48-1a_seg27.jpg</td>\n",
       "      <td>Normal Duct</td>\n",
       "      <td>adh48-1a</td>\n",
       "      <td>False</td>\n",
       "      <td>False</td>\n",
       "    </tr>\n",
       "    <tr>\n",
       "      <th>1758</th>\n",
       "      <td>Jeff Fine</td>\n",
       "      <td>adh46-2b_seg20.jpg</td>\n",
       "      <td>Normal Duct</td>\n",
       "      <td>adh46-2b</td>\n",
       "      <td>False</td>\n",
       "      <td>False</td>\n",
       "    </tr>\n",
       "  </tbody>\n",
       "</table>\n",
       "<p>1469 rows × 6 columns</p>\n",
       "</div>"
      ],
      "text/plain": [
       "     Participant                Image            Score FolderName  isADH  \\\n",
       "1      Jeff Fine   adh08-1c_seg14.jpg      Normal Duct   adh08-1c  False   \n",
       "2      Jeff Fine    adh04-1a_seg7.jpg      Normal Duct   adh04-1a  False   \n",
       "3      Jeff Fine   adh03-2a_seg53.jpg         Columnar   adh03-2a  False   \n",
       "5      Jeff Fine    adh07-2a_seg4.jpg      Normal Duct   adh07-2a  False   \n",
       "7      Jeff Fine  adh03-2a_seg200.jpg         Columnar   adh03-2a  False   \n",
       "8      Jeff Fine    adh07-1c_seg4.jpg              ADH   adh07-1c   True   \n",
       "9      Jeff Fine   adh08-1c_seg45.jpg  Flat Epithelial   adh08-1c  False   \n",
       "10     Jeff Fine  adh06-1b_seg138.jpg         Columnar   adh06-1b  False   \n",
       "11     Jeff Fine   adh08-1b_seg77.jpg         Columnar   adh08-1b  False   \n",
       "12     Jeff Fine  adh07-1b_seg156.jpg      Normal Duct   adh07-1b  False   \n",
       "13     Jeff Fine   adh04-1a_seg17.jpg      Normal Duct   adh04-1a  False   \n",
       "16     Jeff Fine    adh04-1c_seg5.jpg         Columnar   adh04-1c  False   \n",
       "18     Jeff Fine   adh08-1c_seg17.jpg         Columnar   adh08-1c  False   \n",
       "19     Jeff Fine   adh07-2a_seg41.jpg  Flat Epithelial   adh07-2a  False   \n",
       "20     Jeff Fine   adh08-1c_seg35.jpg      Normal Duct   adh08-1c  False   \n",
       "22     Jeff Fine    adh05-1a_seg7.jpg      Normal Duct   adh05-1a  False   \n",
       "23     Jeff Fine   adh04-1a_seg18.jpg      Normal Duct   adh04-1a  False   \n",
       "24     Jeff Fine  adh07-1b_seg179.jpg      Normal Duct   adh07-1b  False   \n",
       "25     Jeff Fine   adh07-1a_seg15.jpg              ADH   adh07-1a   True   \n",
       "26     Jeff Fine   adh05-1a_seg14.jpg         Columnar   adh05-1a  False   \n",
       "27     Jeff Fine   adh08-1c_seg16.jpg      Normal Duct   adh08-1c  False   \n",
       "28     Jeff Fine   adh08-1c_seg26.jpg      Normal Duct   adh08-1c  False   \n",
       "29     Jeff Fine    adh04-1b_seg3.jpg  Flat Epithelial   adh04-1b  False   \n",
       "30     Jeff Fine   adh08-1b_seg31.jpg      Normal Duct   adh08-1b  False   \n",
       "31     Jeff Fine   adh04-1a_seg11.jpg      Normal Duct   adh04-1a  False   \n",
       "32     Jeff Fine   adh07-2a_seg46.jpg  Flat Epithelial   adh07-2a  False   \n",
       "33     Jeff Fine   adh04-1a_seg16.jpg      Normal Duct   adh04-1a  False   \n",
       "34     Jeff Fine   adh08-1b_seg65.jpg      Normal Duct   adh08-1b  False   \n",
       "35     Jeff Fine   adh07-1b_seg12.jpg      Normal Duct   adh07-1b  False   \n",
       "37     Jeff Fine   adh07-2a_seg22.jpg      Normal Duct   adh07-2a  False   \n",
       "...          ...                  ...              ...        ...    ...   \n",
       "1720   Jeff Fine   adh47-1a_seg40.jpg  Flat Epithelial   adh47-1a  False   \n",
       "1724   Jeff Fine   adh48-1a_seg12.jpg      Normal Duct   adh48-1a  False   \n",
       "1725   Jeff Fine   adh48-1a_seg17.jpg      Normal Duct   adh48-1a  False   \n",
       "1726   Jeff Fine   adh46-2b_seg12.jpg      Normal Duct   adh46-2b  False   \n",
       "1727   Jeff Fine   adh46-2a_seg40.jpg      Normal Duct   adh46-2a  False   \n",
       "1728   Jeff Fine   adh46-2b_seg16.jpg      Normal Duct   adh46-2b  False   \n",
       "1729   Jeff Fine   adh46-2a_seg25.jpg      Normal Duct   adh46-2a  False   \n",
       "1730   Jeff Fine   adh45-6c_seg22.jpg      Normal Duct   adh45-6c  False   \n",
       "1731   Jeff Fine    adh47-1b_seg5.jpg              ADH   adh47-1b   True   \n",
       "1732   Jeff Fine   adh47-1a_seg61.jpg              ADH   adh47-1a   True   \n",
       "1733   Jeff Fine   adh47-1a_seg25.jpg      Normal Duct   adh47-1a  False   \n",
       "1734   Jeff Fine    adh48-1a_seg6.jpg      Normal Duct   adh48-1a  False   \n",
       "1735   Jeff Fine    adh47-1b_seg4.jpg      Normal Duct   adh47-1b  False   \n",
       "1736   Jeff Fine    adh48-1a_seg3.jpg              ADH   adh48-1a   True   \n",
       "1738   Jeff Fine   adh47-1a_seg64.jpg  Flat Epithelial   adh47-1a  False   \n",
       "1739   Jeff Fine   adh45-6c_seg14.jpg      Normal Duct   adh45-6c  False   \n",
       "1740   Jeff Fine   adh46-2b_seg21.jpg      Normal Duct   adh46-2b  False   \n",
       "1741   Jeff Fine   adh47-1a_seg39.jpg              ADH   adh47-1a   True   \n",
       "1742   Jeff Fine   adh48-1a_seg26.jpg      Normal Duct   adh48-1a  False   \n",
       "1743   Jeff Fine   adh47-1b_seg13.jpg      Normal Duct   adh47-1b  False   \n",
       "1745   Jeff Fine    adh46-2a_seg8.jpg      Normal Duct   adh46-2a  False   \n",
       "1746   Jeff Fine   adh48-1a_seg28.jpg      Normal Duct   adh48-1a  False   \n",
       "1747   Jeff Fine   adh47-1b_seg19.jpg      Normal Duct   adh47-1b  False   \n",
       "1748   Jeff Fine    adh45-6c_seg4.jpg      Normal Duct   adh45-6c  False   \n",
       "1750   Jeff Fine   adh46-2a_seg36.jpg      Normal Duct   adh46-2a  False   \n",
       "1753   Jeff Fine   adh48-1a_seg29.jpg         Columnar   adh48-1a  False   \n",
       "1755   Jeff Fine   adh46-2a_seg22.jpg      Normal Duct   adh46-2a  False   \n",
       "1756   Jeff Fine   adh46-2a_seg21.jpg      Normal Duct   adh46-2a  False   \n",
       "1757   Jeff Fine   adh48-1a_seg27.jpg      Normal Duct   adh48-1a  False   \n",
       "1758   Jeff Fine   adh46-2b_seg20.jpg      Normal Duct   adh46-2b  False   \n",
       "\n",
       "     isMalignant  \n",
       "1          False  \n",
       "2          False  \n",
       "3          False  \n",
       "5          False  \n",
       "7          False  \n",
       "8           True  \n",
       "9           True  \n",
       "10         False  \n",
       "11         False  \n",
       "12         False  \n",
       "13         False  \n",
       "16         False  \n",
       "18         False  \n",
       "19          True  \n",
       "20         False  \n",
       "22         False  \n",
       "23         False  \n",
       "24         False  \n",
       "25          True  \n",
       "26         False  \n",
       "27         False  \n",
       "28         False  \n",
       "29          True  \n",
       "30         False  \n",
       "31         False  \n",
       "32          True  \n",
       "33         False  \n",
       "34         False  \n",
       "35         False  \n",
       "37         False  \n",
       "...          ...  \n",
       "1720        True  \n",
       "1724       False  \n",
       "1725       False  \n",
       "1726       False  \n",
       "1727       False  \n",
       "1728       False  \n",
       "1729       False  \n",
       "1730       False  \n",
       "1731        True  \n",
       "1732        True  \n",
       "1733       False  \n",
       "1734       False  \n",
       "1735       False  \n",
       "1736        True  \n",
       "1738        True  \n",
       "1739       False  \n",
       "1740       False  \n",
       "1741        True  \n",
       "1742       False  \n",
       "1743       False  \n",
       "1745       False  \n",
       "1746       False  \n",
       "1747       False  \n",
       "1748       False  \n",
       "1750       False  \n",
       "1753       False  \n",
       "1755       False  \n",
       "1756       False  \n",
       "1757       False  \n",
       "1758       False  \n",
       "\n",
       "[1469 rows x 6 columns]"
      ]
     },
     "execution_count": 19,
     "metadata": {},
     "output_type": "execute_result"
    }
   ],
   "source": [
    "# ADH vs. non ADH\n",
    "isADH = label_files.Score.isin(['ADH'])\n",
    "label_files['isADH'] = pd.Series(isADH)\n",
    "# malignant vs non\n",
    "isMalignant = label_files.Score.isin(['ADH', 'Flat Epithelial'])\n",
    "label_files['isMalignant'] = pd.Series(isMalignant)"
   ]
  },
  {
   "cell_type": "code",
   "execution_count": 20,
   "metadata": {
    "collapsed": false
   },
   "outputs": [
    {
     "name": "stdout",
     "output_type": "stream",
     "text": [
      "whole data\n",
      "isADH\n",
      "False    1279\n",
      "True      190\n",
      "dtype: int64\n",
      "\n",
      "Train set:  1175  ROIs\n",
      "isADH\n",
      "False    1023\n",
      "True      152\n",
      "dtype: int64\n",
      "\n",
      "Test set:  294  ROIs\n",
      "isADH\n",
      "False    256\n",
      "True      38\n",
      "dtype: int64\n"
     ]
    }
   ],
   "source": [
    "train_index, test_index = skf.split(xrange(len(label_files)), label_files['isADH']).next()\n",
    "train_df = label_files.iloc[train_index]\n",
    "test_df = label_files.iloc[test_index]\n",
    "print 'whole data'\n",
    "print label_files.groupby(['isADH'], as_index=False).size()\n",
    "print '\\nTrain set: ', len(train_df), ' ROIs'\n",
    "print train_df.groupby(['isADH'], as_index=False).size()\n",
    "print '\\nTest set: ', len(test_df), ' ROIs'\n",
    "print test_df.groupby(['isADH'], as_index=False).size()\n",
    "train_df.to_csv(os.path.join(data_dir,'ADH_isADH_train.csv'))\n",
    "test_df.to_csv(os.path.join(data_dir,'ADH_isADH_test.csv'))"
   ]
  },
  {
   "cell_type": "code",
   "execution_count": 21,
   "metadata": {
    "collapsed": false
   },
   "outputs": [
    {
     "name": "stdout",
     "output_type": "stream",
     "text": [
      "whole data\n",
      "isMalignant\n",
      "False    1099\n",
      "True      370\n",
      "dtype: int64\n",
      "\n",
      "Train set:  1175  ROIs\n",
      "isMalignant\n",
      "False    879\n",
      "True     296\n",
      "dtype: int64\n",
      "\n",
      "Test set:  294  ROIs\n",
      "isMalignant\n",
      "False    220\n",
      "True      74\n",
      "dtype: int64\n"
     ]
    }
   ],
   "source": [
    "train_index, test_index = skf.split(xrange(len(label_files)), label_files['isMalignant']).next()\n",
    "train_df = label_files.iloc[train_index]\n",
    "test_df = label_files.iloc[test_index]\n",
    "print 'whole data'\n",
    "print label_files.groupby(['isMalignant'], as_index=False).size()\n",
    "print '\\nTrain set: ', len(train_df), ' ROIs'\n",
    "print train_df.groupby(['isMalignant'], as_index=False).size()\n",
    "print '\\nTest set: ', len(test_df), ' ROIs'\n",
    "print test_df.groupby(['isMalignant'], as_index=False).size()\n",
    "train_df.to_csv(os.path.join(data_dir,'ADH_isMalignant_train.csv'))\n",
    "test_df.to_csv(os.path.join(data_dir,'ADH_isMalignant_test.csv'))"
   ]
  },
  {
   "cell_type": "code",
   "execution_count": 14,
   "metadata": {
    "collapsed": false
   },
   "outputs": [],
   "source": [
    "wsi_names = label_files.FolderName.unique()\n",
    "msk = np.random.rand(len(wsi_names)) < 0.8\n",
    "train_wsi = wsi_names[msk]\n",
    "test_wsi = wsi_names[~msk]"
   ]
  },
  {
   "cell_type": "code",
   "execution_count": 4,
   "metadata": {
    "collapsed": true
   },
   "outputs": [
    {
     "ename": "NameError",
     "evalue": "name 'train_wsi' is not defined",
     "output_type": "error",
     "traceback": [
      "\u001b[0;31m---------------------------------------------------------------------------\u001b[0m",
      "\u001b[0;31mNameError\u001b[0m                                 Traceback (most recent call last)",
      "\u001b[0;32m<ipython-input-4-c4856d162f88>\u001b[0m in \u001b[0;36m<module>\u001b[0;34m()\u001b[0m\n\u001b[0;32m----> 1\u001b[0;31m \u001b[0mtrain_df\u001b[0m \u001b[0;34m=\u001b[0m \u001b[0mlabel_files\u001b[0m\u001b[0;34m.\u001b[0m\u001b[0mloc\u001b[0m\u001b[0;34m[\u001b[0m\u001b[0mlabel_files\u001b[0m\u001b[0;34m.\u001b[0m\u001b[0mFolderName\u001b[0m\u001b[0;34m.\u001b[0m\u001b[0misin\u001b[0m\u001b[0;34m(\u001b[0m\u001b[0mtrain_wsi\u001b[0m\u001b[0;34m)\u001b[0m\u001b[0;34m]\u001b[0m\u001b[0;34m\u001b[0m\u001b[0m\n\u001b[0m\u001b[1;32m      2\u001b[0m \u001b[0mtest_df\u001b[0m \u001b[0;34m=\u001b[0m \u001b[0mlabel_files\u001b[0m\u001b[0;34m.\u001b[0m\u001b[0mloc\u001b[0m\u001b[0;34m[\u001b[0m\u001b[0mlabel_files\u001b[0m\u001b[0;34m.\u001b[0m\u001b[0mFolderName\u001b[0m\u001b[0;34m.\u001b[0m\u001b[0misin\u001b[0m\u001b[0;34m(\u001b[0m\u001b[0mtest_wsi\u001b[0m\u001b[0;34m)\u001b[0m\u001b[0;34m]\u001b[0m\u001b[0;34m\u001b[0m\u001b[0m\n\u001b[1;32m      3\u001b[0m \u001b[0mtrain_df\u001b[0m\u001b[0;34m.\u001b[0m\u001b[0mto_csv\u001b[0m\u001b[0;34m(\u001b[0m\u001b[0mos\u001b[0m\u001b[0;34m.\u001b[0m\u001b[0mpath\u001b[0m\u001b[0;34m.\u001b[0m\u001b[0mjoin\u001b[0m\u001b[0;34m(\u001b[0m\u001b[0mdata_dir\u001b[0m\u001b[0;34m,\u001b[0m\u001b[0;34m'ADH_train.csv'\u001b[0m\u001b[0;34m)\u001b[0m\u001b[0;34m)\u001b[0m\u001b[0;34m\u001b[0m\u001b[0m\n\u001b[1;32m      4\u001b[0m \u001b[0mtest_df\u001b[0m\u001b[0;34m.\u001b[0m\u001b[0mto_csv\u001b[0m\u001b[0;34m(\u001b[0m\u001b[0mos\u001b[0m\u001b[0;34m.\u001b[0m\u001b[0mpath\u001b[0m\u001b[0;34m.\u001b[0m\u001b[0mjoin\u001b[0m\u001b[0;34m(\u001b[0m\u001b[0mdata_dir\u001b[0m\u001b[0;34m,\u001b[0m\u001b[0;34m'ADH_test.csv'\u001b[0m\u001b[0;34m)\u001b[0m\u001b[0;34m)\u001b[0m\u001b[0;34m\u001b[0m\u001b[0m\n",
      "\u001b[0;31mNameError\u001b[0m: name 'train_wsi' is not defined"
     ]
    }
   ],
   "source": [
    "train_df = label_files.loc[label_files.FolderName.isin(train_wsi)]\n",
    "test_df = label_files.loc[label_files.FolderName.isin(test_wsi)]\n",
    "train_df.to_csv(os.path.join(data_dir,'ADH_train.csv'))\n",
    "test_df.to_csv(os.path.join(data_dir,'ADH_test.csv'))"
   ]
  },
  {
   "cell_type": "code",
   "execution_count": 5,
   "metadata": {
    "collapsed": true
   },
   "outputs": [
    {
     "name": "stdout",
     "output_type": "stream",
     "text": [
      "whole data\n",
      "Score\n",
      "ADH                190\n",
      "Columnar           287\n",
      "Flat Epithelial    180\n",
      "Normal Duct        812\n",
      "dtype: int64\n",
      "\n",
      "Train set: "
     ]
    },
    {
     "ename": "NameError",
     "evalue": "name 'train_wsi' is not defined",
     "output_type": "error",
     "traceback": [
      "\u001b[0;31m---------------------------------------------------------------------------\u001b[0m",
      "\u001b[0;31mNameError\u001b[0m                                 Traceback (most recent call last)",
      "\u001b[0;32m<ipython-input-5-14ccbb28a57d>\u001b[0m in \u001b[0;36m<module>\u001b[0;34m()\u001b[0m\n\u001b[1;32m      2\u001b[0m \u001b[0;32mprint\u001b[0m \u001b[0;34m'whole data'\u001b[0m\u001b[0;34m\u001b[0m\u001b[0m\n\u001b[1;32m      3\u001b[0m \u001b[0;32mprint\u001b[0m \u001b[0mlabel_files\u001b[0m\u001b[0;34m.\u001b[0m\u001b[0mgroupby\u001b[0m\u001b[0;34m(\u001b[0m\u001b[0;34m[\u001b[0m\u001b[0;34m'Score'\u001b[0m\u001b[0;34m]\u001b[0m\u001b[0;34m,\u001b[0m \u001b[0mas_index\u001b[0m\u001b[0;34m=\u001b[0m\u001b[0mFalse\u001b[0m\u001b[0;34m)\u001b[0m\u001b[0;34m.\u001b[0m\u001b[0msize\u001b[0m\u001b[0;34m(\u001b[0m\u001b[0;34m)\u001b[0m\u001b[0;34m\u001b[0m\u001b[0m\n\u001b[0;32m----> 4\u001b[0;31m \u001b[0;32mprint\u001b[0m \u001b[0;34m'\\nTrain set: '\u001b[0m\u001b[0;34m,\u001b[0m \u001b[0mlen\u001b[0m\u001b[0;34m(\u001b[0m\u001b[0mtrain_wsi\u001b[0m\u001b[0;34m)\u001b[0m\u001b[0;34m,\u001b[0m \u001b[0;34m' WSIs'\u001b[0m\u001b[0;34m\u001b[0m\u001b[0m\n\u001b[0m\u001b[1;32m      5\u001b[0m \u001b[0;32mprint\u001b[0m \u001b[0mtrain_df\u001b[0m\u001b[0;34m.\u001b[0m\u001b[0mgroupby\u001b[0m\u001b[0;34m(\u001b[0m\u001b[0;34m[\u001b[0m\u001b[0;34m'Score'\u001b[0m\u001b[0;34m]\u001b[0m\u001b[0;34m,\u001b[0m \u001b[0mas_index\u001b[0m\u001b[0;34m=\u001b[0m\u001b[0mFalse\u001b[0m\u001b[0;34m)\u001b[0m\u001b[0;34m.\u001b[0m\u001b[0msize\u001b[0m\u001b[0;34m(\u001b[0m\u001b[0;34m)\u001b[0m\u001b[0;34m\u001b[0m\u001b[0m\n\u001b[1;32m      6\u001b[0m \u001b[0;32mprint\u001b[0m \u001b[0;34m'\\nTest set: '\u001b[0m\u001b[0;34m,\u001b[0m \u001b[0mlen\u001b[0m\u001b[0;34m(\u001b[0m\u001b[0mtest_wsi\u001b[0m\u001b[0;34m)\u001b[0m\u001b[0;34m,\u001b[0m \u001b[0;34m' WSIs'\u001b[0m\u001b[0;34m\u001b[0m\u001b[0m\n",
      "\u001b[0;31mNameError\u001b[0m: name 'train_wsi' is not defined"
     ]
    }
   ],
   "source": [
    "# split 4 classes\n",
    "print 'whole data'\n",
    "print label_files.groupby(['Score'], as_index=False).size()\n",
    "print '\\nTrain set: ', len(train_wsi), ' WSIs'\n",
    "print train_df.groupby(['Score'], as_index=False).size()\n",
    "print '\\nTest set: ', len(test_wsi), ' WSIs'\n",
    "print test_df.groupby(['Score'], as_index=False).size()"
   ]
  },
  {
   "cell_type": "code",
   "execution_count": 106,
   "metadata": {
    "collapsed": false
   },
   "outputs": [],
   "source": [
    "train_df = pd.read_csv(os.path.join(data_dir,'ADH_4classes_train.csv'))\n",
    "test_df = pd.read_csv(os.path.join(data_dir,'ADH_4classes_test.csv'))\n",
    "train_wsi = train_df.FolderName.unique()"
   ]
  },
  {
   "cell_type": "code",
   "execution_count": 161,
   "metadata": {
    "collapsed": true
   },
   "outputs": [],
   "source": [
    "train_df = pd.read_csv(os.path.join(data_dir,'train_test_lists','train_concensus_v2.csv'))\n",
    "test_df = pd.read_csv(os.path.join(data_dir,'train_test_lists','test_concensus_v2.csv'))\n",
    "train_wsi = train_df.FolderName.unique()"
   ]
  },
  {
   "cell_type": "code",
   "execution_count": 162,
   "metadata": {
    "collapsed": false
   },
   "outputs": [],
   "source": [
    "image_no_features = ['adh05-1a_seg13_boundary_2ndPass_normalized_masked.mat',\n",
    "'adh03-2a_seg58_boundary_2ndPass_normalized_masked.mat',\n",
    "'adh08-1a_seg73_boundary_2ndPass_normalized_masked.mat',\n",
    "'adh04-1b_seg6_boundary_2ndPass_normalized_masked.mat',\n",
    "'adh06-1b_seg48_boundary_2ndPass_normalized_masked.mat',\n",
    "'adh04-1b_seg15_boundary_2ndPass_normalized_masked.mat',\n",
    "'adh04-1a_seg21_boundary_2ndPass_normalized_masked.mat',\n",
    "'adh08-1b_seg25_boundary_2ndPass_normalized_masked.mat',\n",
    "'adh04-1b_seg14_boundary_2ndPass_normalized_masked.mat',\n",
    "'adh04-1b_seg18_boundary_2ndPass_normalized_masked.mat',\n",
    "'adh05-1a_seg16_boundary_2ndPass_normalized_masked.mat',\n",
    "'adh04-1a_seg4_boundary_2ndPass_normalized_masked.mat',\n",
    "'adh14-1a_seg19_boundary_2ndPass_normalized_masked.mat',\n",
    "'adh10-1b_seg32_boundary_2ndPass_normalized_masked.mat',\n",
    "'adh16-1a_seg39_boundary_2ndPass_normalized_masked.mat',\n",
    "'adh14-1a_seg106_boundary_2ndPass_normalized_masked.mat',\n",
    "'adh22-2b_seg46_boundary_2ndPass_normalized_masked.mat',\n",
    "'adh19-1b_seg12_boundary_2ndPass_normalized_masked.mat' ,\n",
    "'adh26-1a_seg41_boundary_2ndPass_normalized_masked.mat' ,\n",
    "'adh26-1a_seg26_boundary_2ndPass_normalized_masked.mat' ,\n",
    "'adh26-1a_seg24_boundary_2ndPass_normalized_masked.mat' ,\n",
    "'adh26-1a_seg14_boundary_2ndPass_normalized_masked.mat' ,\n",
    "'adh30-1a_seg174_boundary_2ndPass_normalized_masked.mat' ,\n",
    "'adh31-1e_seg11_boundary_2ndPass_normalized_masked.mat' ,\n",
    "'adh32-1a_seg132_boundary_2ndPass_normalized_masked.mat',\n",
    "'adh26-1a_seg14_boundary_2ndPass_normalized_masked.mat' ,\n",
    "'adh30-1a_seg174_boundary_2ndPass_normalized_masked.mat' ,\n",
    "'adh31-1e_seg11_boundary_2ndPass_normalized_masked.mat' ,\n",
    "'adh32-1a_seg132_boundary_2ndPass_normalized_masked.mat' ,\n",
    "'adh32-1a_seg178_boundary_2ndPass_normalized_masked.mat',\n",
    "'adh35-1a_seg100_boundary_2ndPass_normalized_masked.mat' ,\n",
    "'adh35-1a_seg198_boundary_2ndPass_normalized_masked.mat' ,\n",
    "'adh36-1a_seg18_boundary_2ndPass_normalized_masked.mat' ,\n",
    "'adh36-1d_seg3_boundary_2ndPass_normalized_masked.mat' ,\n",
    "'adh36-1d_seg4_boundary_2ndPass_normalized_masked.mat' ,\n",
    "'adh37-4b_seg51_boundary_2ndPass_normalized_masked.mat' ,\n",
    "'adh38-1a_seg55_boundary_2ndPass_normalized_masked.mat' ,\n",
    "'adh35-1a_seg198_boundary_2ndPass_normalized_masked.mat' ,\n",
    "'adh36-1a_seg18_boundary_2ndPass_normalized_masked.mat' ,\n",
    "'adh36-1d_seg3_boundary_2ndPass_normalized_masked.mat' ,\n",
    "'adh36-1d_seg4_boundary_2ndPass_normalized_masked.mat' ,\n",
    "'adh37-4b_seg51_boundary_2ndPass_normalized_masked.mat' ,\n",
    "'adh38-1a_seg55_boundary_2ndPass_normalized_masked.mat' ,\n",
    "'adh42-1a_seg60_boundary_2ndPass_normalized_masked.mat' ,\n",
    "'adh38-1a_seg68_boundary_2ndPass_normalized_masked.mat' ,\n",
    "'adh38-1a_seg16_boundary_2ndPass_normalized_masked.mat' ,\n",
    "'adh37-4b_seg44_boundary_2ndPass_normalized_masked.mat' ,\n",
    "'adh38-1a_seg44_boundary_2ndPass_normalized_masked.mat' ,\n",
    "'adh37-4b_seg46_boundary_2ndPass_normalized_masked.mat' ,\n",
    "'adh38-1a_seg38_boundary_2ndPass_normalized_masked.mat']\n",
    "\n",
    "#adh08-1c_seg14.jpg\n",
    "image_no_features = [a.split('_boundary')[0] + '.jpg' for a in image_no_features]\n",
    "image_no_features_df = label_files.loc[label_files.Image.isin(image_no_features),:]\n",
    "image_no_features_df.to_csv(os.path.join(data_dir,'images_no_features.csv'))"
   ]
  },
  {
   "cell_type": "markdown",
   "metadata": {},
   "source": [
    "## Cluster nuclear morphologies with DBScan"
   ]
  },
  {
   "cell_type": "code",
   "execution_count": 233,
   "metadata": {
    "collapsed": false
   },
   "outputs": [],
   "source": [
    "# Read in the data\n",
    "nuclear_feat_dir = 'ADH_nuc_features'\n",
    "mat_files = os.listdir(os.path.join(data_dir, nuclear_feat_dir))"
   ]
  },
  {
   "cell_type": "code",
   "execution_count": 234,
   "metadata": {
    "collapsed": false,
    "scrolled": true
   },
   "outputs": [
    {
     "name": "stdout",
     "output_type": "stream",
     "text": [
      "adh36-1d_seg3_boundary_2ndPass_normalized_masked.mat  does not exist\n",
      "adh36-1d_seg4_boundary_2ndPass_normalized_masked.mat  does not exist\n",
      "adh42-1a_seg60_boundary_2ndPass_normalized_masked.mat  does not exist\n",
      "adh31-1e_seg11_boundary_2ndPass_normalized_masked.mat  does not exist\n",
      "adh38-1a_seg38_boundary_2ndPass_normalized_masked.mat  does not exist\n",
      "adh38-1a_seg55_boundary_2ndPass_normalized_masked.mat  does not exist\n"
     ]
    }
   ],
   "source": [
    "train_nuc_feats = []\n",
    "files_no_features = []\n",
    "\n",
    "for imname in train_df['Image']:\n",
    "    mat_fname = imname.split('.')[0] + '_boundary_2ndPass_normalized_masked.mat'\n",
    "    if os.path.isfile(os.path.join(data_dir, nuclear_feat_dir,mat_fname)):\n",
    "        mat_dict = scipy.io.loadmat(os.path.join(data_dir, nuclear_feat_dir, mat_fname))        \n",
    "        if mat_dict['data'].shape[1] == 0:\n",
    "            print mat_fname, ' have 0 features'\n",
    "            files_no_features.append(mat_fname)\n",
    "            continue\n",
    "        train_nuc_feats.append(mat_dict['data'])\n",
    "    else:\n",
    "        print mat_fname, ' does not exist'\n",
    "#"
   ]
  },
  {
   "cell_type": "code",
   "execution_count": 195,
   "metadata": {
    "collapsed": false
   },
   "outputs": [
    {
     "data": {
      "image/png": "[encoded data removed]",
      "text/plain": [
       "<matplotlib.figure.Figure at 0x7f8a92d84c50>"
      ]
     },
     "metadata": {},
     "output_type": "display_data"
    }
   ],
   "source": [
    "num_rows = [a.shape[0] for a in train_nuc_feats]\n",
    "plt.figure()\n",
    "plt.hist(num_rows, normed='probability',range=[0, 1000])\n",
    "train_nuc_feats = np.vstack(train_nuc_feats)"
   ]
  },
  {
   "cell_type": "code",
   "execution_count": 203,
   "metadata": {
    "collapsed": false
   },
   "outputs": [
    {
     "name": "stdout",
     "output_type": "stream",
     "text": [
      "429229 (429229, 198) 1365\n",
      "(427864, 3) (427864, 196)\n"
     ]
    }
   ],
   "source": [
    "# filter out NaN\n",
    "nan_indx = np.isnan(train_nuc_feats).any(axis = 1)\n",
    "filtered_nuc_feats = train_nuc_feats[~nan_indx,:]\n",
    "print len(nan_indx), train_nuc_feats.shape, sum(nan_indx)\n",
    "nuc_xy_areas = filtered_nuc_feats[:,:3]\n",
    "filtered_nuc_feats = filtered_nuc_feats[:,2:]\n",
    "print nuc_xy_areas.shape, filtered_nuc_feats.shape"
   ]
  },
  {
   "cell_type": "code",
   "execution_count": 204,
   "metadata": {
    "collapsed": false
   },
   "outputs": [
    {
     "data": {
      "text/plain": [
       "(427864, 196)"
      ]
     },
     "execution_count": 204,
     "metadata": {},
     "output_type": "execute_result"
    }
   ],
   "source": [
    "# standardize the features\n",
    "from sklearn.preprocessing import StandardScaler\n",
    "scaler = StandardScaler().fit(filtered_nuc_feats)\n",
    "scaled_train_nuc_feats = scaler.transform(filtered_nuc_feats)\n",
    "scaled_train_nuc_feats.shape "
   ]
  },
  {
   "cell_type": "code",
   "execution_count": 205,
   "metadata": {
    "collapsed": false
   },
   "outputs": [
    {
     "name": "stdout",
     "output_type": "stream",
     "text": [
      "(196, 196)\n"
     ]
    },
    {
     "data": {
      "text/plain": [
       "(array([ 29,  30,  31,  32,  33,  34,  35,  36,  37,  38,  39,  40,  41,\n",
       "         42,  43,  44,  45,  46,  47,  48,  49,  50,  51,  52,  53,  54,\n",
       "         55,  56,  57,  58,  59,  60,  61,  62,  63,  64,  65,  66,  67,\n",
       "         68,  69,  70,  71,  72,  73,  74,  75,  76,  77,  78,  79,  80,\n",
       "         81,  82,  83,  84,  85,  86,  87,  88,  89,  90,  91,  92,  93,\n",
       "         94,  95,  96,  97,  98,  99, 100, 101, 102, 103, 104, 105, 106,\n",
       "        107, 108, 109, 110, 111, 112, 113, 114, 115, 116, 117, 118, 119,\n",
       "        120, 121, 122, 123, 124, 125, 126, 127, 128, 129, 130, 131, 132,\n",
       "        133, 134, 135, 136, 137, 138, 139, 140, 141, 142, 143, 144, 145,\n",
       "        146, 147, 148, 149, 150, 151, 152, 153, 154, 155, 156, 157, 158,\n",
       "        159, 160, 161, 162, 163, 164, 165, 166, 167, 168, 169, 170, 171,\n",
       "        172, 173, 174, 175, 176, 177, 178, 179, 180, 181, 182, 183, 184,\n",
       "        185, 186, 187, 188, 189, 190, 191, 192, 193, 194, 195]),)"
      ]
     },
     "execution_count": 205,
     "metadata": {},
     "output_type": "execute_result"
    }
   ],
   "source": [
    "cov = np.cov(scaled_train_nuc_feats, rowvar = False)\n",
    "print cov.shape\n",
    "w, v = np.linalg.eig(cov)\n",
    "tmp = np.sort(w)[::-1]\n",
    "var_explained = np.cumsum(tmp)/np.sum(tmp)\n",
    "np.nonzero(var_explained >= 0.95)"
   ]
  },
  {
   "cell_type": "code",
   "execution_count": 206,
   "metadata": {
    "collapsed": false
   },
   "outputs": [
    {
     "data": {
      "text/plain": [
       "(array([  7,   8,   9,  10,  11,  12,  13,  14,  15,  16,  17,  18,  19,\n",
       "         20,  21,  22,  23,  24,  25,  26,  27,  28,  29,  30,  31,  32,\n",
       "         33,  34,  35,  36,  37,  38,  39,  40,  41,  42,  43,  44,  45,\n",
       "         46,  47,  48,  49,  50,  51,  52,  53,  54,  55,  56,  57,  58,\n",
       "         59,  60,  61,  62,  63,  64,  65,  66,  67,  68,  69,  70,  71,\n",
       "         72,  73,  74,  75,  76,  77,  78,  79,  80,  81,  82,  83,  84,\n",
       "         85,  86,  87,  88,  89,  90,  91,  92,  93,  94,  95,  96,  97,\n",
       "         98,  99, 100, 101, 102, 103, 104, 105, 106, 107, 108, 109, 110,\n",
       "        111, 112, 113, 114, 115, 116, 117, 118, 119, 120, 121, 122, 123,\n",
       "        124, 125, 126, 127, 128, 129, 130, 131, 132, 133, 134, 135, 136,\n",
       "        137, 138, 139, 140, 141, 142, 143, 144, 145, 146, 147, 148, 149,\n",
       "        150, 151, 152, 153, 154, 155, 156, 157, 158, 159, 160, 161, 162,\n",
       "        163, 164, 165, 166, 167, 168, 169, 170, 171, 172, 173, 174, 175,\n",
       "        176, 177, 178, 179, 180, 181, 182, 183, 184, 185, 186, 187, 188,\n",
       "        189, 190, 191, 192, 193, 194, 195]),)"
      ]
     },
     "execution_count": 206,
     "metadata": {},
     "output_type": "execute_result"
    }
   ],
   "source": [
    "np.nonzero(var_explained >= 0.8)"
   ]
  },
  {
   "cell_type": "code",
   "execution_count": 207,
   "metadata": {
    "collapsed": false
   },
   "outputs": [
    {
     "name": "stdout",
     "output_type": "stream",
     "text": [
      "PCA takes  5.36989402771  seconds. % variance explained  0.796437789961\n"
     ]
    }
   ],
   "source": [
    "from sklearn.decomposition import IncrementalPCA\n",
    "pca = IncrementalPCA(n_components=7)\n",
    "start_time = time.time()\n",
    "pca.fit(scaled_train_nuc_feats)\n",
    "pca_nuc_feats = pca.transform(scaled_train_nuc_feats)\n",
    "print 'PCA takes ', time.time() - start_time, ' seconds. % variance explained ', sum(pca.explained_variance_ratio_)"
   ]
  },
  {
   "cell_type": "code",
   "execution_count": null,
   "metadata": {
    "collapsed": true
   },
   "outputs": [],
   "source": [
    "# build a KD tree\n",
    "#from sklearn.neighbors import NearestNeighbors, KDTree\n",
    "#tree = KDTree(scaled_train_nuc_feats)\n",
    "#for n in range(2,15):\n",
    "#    dist, ind = tree.query(data_spot[:,:2], n)\n",
    "#num_neighbors = scaled_train_nuc_feats.shape[1] + 1\n",
    "#dist, ind = tree.query(scaled_train_nuc_feats, num_neighbors)"
   ]
  },
  {
   "cell_type": "code",
   "execution_count": 12,
   "metadata": {
    "collapsed": false
   },
   "outputs": [
    {
     "name": "stdout",
     "output_type": "stream",
     "text": [
      "2.99431586266\n"
     ]
    }
   ],
   "source": [
    "from sklearn.neighbors import NearestNeighbors\n",
    "num_neighbors = 20\n",
    "# sample some data\n",
    "msk = np.random.rand(scaled_train_nuc_feats.shape[0]) < 0.1\n",
    "sample_nuc_feats = scaled_train_nuc_feats[msk,:]\n",
    "start_time = time.time()\n",
    "nbrs = NearestNeighbors(n_neighbors = num_neighbors, algorithm = 'ball_tree').fit(sample_nuc_feats)\n",
    "print time.time() - start_time"
   ]
  },
  {
   "cell_type": "code",
   "execution_count": 21,
   "metadata": {
    "collapsed": false
   },
   "outputs": [
    {
     "name": "stdout",
     "output_type": "stream",
     "text": [
      "3.406924963\n"
     ]
    }
   ],
   "source": [
    "from sklearn.neighbors import NearestNeighbors, BallTree\n",
    "msk = np.random.rand(scaled_train_nuc_feats.shape[0]) < 0.2\n",
    "sample_nuc_feats = scaled_train_nuc_feats[msk,:]\n",
    "num_neighbors = 20\n",
    "start_time = time.time()\n",
    "tree = BallTree(sample_nuc_feats)\n",
    "print time.time() - start_time"
   ]
  },
  {
   "cell_type": "code",
   "execution_count": 60,
   "metadata": {
    "collapsed": false
   },
   "outputs": [
    {
     "name": "stdout",
     "output_type": "stream",
     "text": [
      "0.142488956451\n"
     ]
    }
   ],
   "source": [
    "from sklearn.neighbors import NearestNeighbors, BallTree, KDTree\n",
    "msk = np.random.rand(pca_nuc_feats.shape[0]) < 0.3\n",
    "sample_nuc_feats = pca_nuc_feats[msk,:]\n",
    "num_neighbors = 20\n",
    "start_time = time.time()\n",
    "#tree = BallTree(sample_nuc_feats)\n",
    "tree = KDTree(sample_nuc_feats)\n",
    "print time.time() - start_time"
   ]
  },
  {
   "cell_type": "code",
   "execution_count": 63,
   "metadata": {
    "collapsed": false
   },
   "outputs": [
    {
     "name": "stdout",
     "output_type": "stream",
     "text": [
      "16.3996269703\n"
     ]
    }
   ],
   "source": [
    "start_time = time.time()\n",
    "dist, ind = tree.query(sample_nuc_feats, k = 12)\n",
    "print time.time() - start_time"
   ]
  },
  {
   "cell_type": "code",
   "execution_count": 65,
   "metadata": {
    "collapsed": false
   },
   "outputs": [
    {
     "data": {
      "text/plain": [
       "(0, 20)"
      ]
     },
     "execution_count": 65,
     "metadata": {},
     "output_type": "execute_result"
    },
    {
     "data": {
      "image/png": "[encoded data removed]",
      "text/plain": [
       "<matplotlib.figure.Figure at 0x7f8a91b0db90>"
      ]
     },
     "metadata": {},
     "output_type": "display_data"
    }
   ],
   "source": [
    "plt.figure()\n",
    "plt.plot(xrange(len(ind)), np.sort(dist[:,11])[::-1])\n",
    "plt.plot([0, len(ind)-1], [4,4])\n",
    "plt.ylim([0,20])"
   ]
  },
  {
   "cell_type": "code",
   "execution_count": 66,
   "metadata": {
    "collapsed": false
   },
   "outputs": [
    {
     "name": "stdout",
     "output_type": "stream",
     "text": [
      "14.9849429131\n"
     ]
    }
   ],
   "source": [
    "from sklearn.cluster import DBSCAN\n",
    "from sklearn import metrics\n",
    "msk = np.random.rand(pca_nuc_feats.shape[0]) < 0.2\n",
    "sample_nuc_feats = pca_nuc_feats[msk,:]\n",
    "start_time = time.time()\n",
    "db = DBSCAN(eps= 3, min_samples=8, n_jobs = 6).fit(sample_nuc_feats)\n",
    "print time.time() - start_time"
   ]
  },
  {
   "cell_type": "code",
   "execution_count": 67,
   "metadata": {
    "collapsed": false
   },
   "outputs": [
    {
     "name": "stdout",
     "output_type": "stream",
     "text": [
      "Estimated number of clusters: 27\n"
     ]
    }
   ],
   "source": [
    "core_samples_mask = np.zeros_like(db.labels_, dtype=bool)\n",
    "core_samples_mask[db.core_sample_indices_] = True\n",
    "labels = db.labels_\n",
    "\n",
    "# Number of clusters in labels, ignoring noise if present.\n",
    "n_clusters_ = len(set(labels)) - (1 if -1 in labels else 0)\n",
    "\n",
    "print('Estimated number of clusters: %d' % n_clusters_)"
   ]
  },
  {
   "cell_type": "code",
   "execution_count": 68,
   "metadata": {
    "collapsed": true
   },
   "outputs": [
    {
     "data": {
      "text/plain": [
       "[17349,\n",
       " 91594,\n",
       " 4,\n",
       " 7,\n",
       " 8,\n",
       " 3,\n",
       " 4,\n",
       " 2,\n",
       " 3,\n",
       " 7,\n",
       " 8,\n",
       " 13,\n",
       " 5,\n",
       " 3,\n",
       " 10,\n",
       " 6,\n",
       " 5,\n",
       " 13,\n",
       " 6,\n",
       " 8,\n",
       " 8,\n",
       " 7,\n",
       " 6,\n",
       " 5,\n",
       " 7,\n",
       " 4,\n",
       " 8,\n",
       " 9]"
      ]
     },
     "execution_count": 68,
     "metadata": {},
     "output_type": "execute_result"
    }
   ],
   "source": [
    "[np.sum(labels == i) for i in np.unique(labels)]"
   ]
  },
  {
   "cell_type": "code",
   "execution_count": 57,
   "metadata": {
    "collapsed": false
   },
   "outputs": [
    {
     "data": {
      "text/plain": [
       "array([-1,  0,  1,  2,  3,  4])"
      ]
     },
     "execution_count": 57,
     "metadata": {},
     "output_type": "execute_result"
    }
   ],
   "source": [
    "np.unique(labels)"
   ]
  },
  {
   "cell_type": "code",
   "execution_count": 48,
   "metadata": {
    "collapsed": false
   },
   "outputs": [],
   "source": [
    "clusters = [sample_nuc_feats[labels == i] for i in xrange(n_clusters_)]\n",
    "clusters_center = [np.median(cluster, axis = 0) for cluster in clusters]"
   ]
  },
  {
   "cell_type": "code",
   "execution_count": 49,
   "metadata": {
    "collapsed": true
   },
   "outputs": [],
   "source": [
    "def dbscan_predict(dbscan_model, X_new, metric=scipy.spatial.distance.euclidean):\n",
    "    # Result is noise by default\n",
    "    y_new = np.ones(shape=len(X_new), dtype=int)*-1 \n",
    "\n",
    "    # Iterate all input samples for a label\n",
    "    for j, x_new in enumerate(X_new):\n",
    "        # Find a core sample closer than EPS\n",
    "        for i, x_core in enumerate(dbscan_model.components_): \n",
    "            if metric(x_new, x_core) < dbscan_model.eps:\n",
    "                # Assign label of x_core to x_new\n",
    "                y_new[j] = dbscan_model.labels_[dbscan_model.core_sample_indices_[i]]\n",
    "                break\n",
    "\n",
    "    return y_new"
   ]
  },
  {
   "cell_type": "code",
   "execution_count": 52,
   "metadata": {
    "collapsed": false
   },
   "outputs": [
    {
     "data": {
      "text/plain": [
       "array([-1,  0,  1,  2,  3,  4])"
      ]
     },
     "execution_count": 52,
     "metadata": {},
     "output_type": "execute_result"
    }
   ],
   "source": [
    "np.unique(labels)"
   ]
  },
  {
   "cell_type": "markdown",
   "metadata": {},
   "source": [
    "## let's try kmeans then"
   ]
  },
  {
   "cell_type": "code",
   "execution_count": 224,
   "metadata": {
    "collapsed": true
   },
   "outputs": [],
   "source": [
    "train_df = pd.read_excel(os.path.join(data_dir,'train_test_lists','ADH_jeff_train_annotations.xlsx'))\n",
    "test_df = pd.read_excel(os.path.join(data_dir,'train_test_lists','ADH_consensus_test_labels.xlsx'))"
   ]
  },
  {
   "cell_type": "code",
   "execution_count": 227,
   "metadata": {
    "collapsed": false
   },
   "outputs": [
    {
     "name": "stdout",
     "output_type": "stream",
     "text": [
      "839 608\n"
     ]
    }
   ],
   "source": [
    "print len(train_df), len(test_df)"
   ]
  },
  {
   "cell_type": "code",
   "execution_count": 226,
   "metadata": {
    "collapsed": false
   },
   "outputs": [],
   "source": [
    "accepted_labels = ['ADH', 'Flat Epithelial', 'Columnar', 'Normal Duct']\n",
    "accepted_indx = np.asarray([a in accepted_labels for a in train_df.Label])\n",
    "train_df = train_df.loc[accepted_indx,:]\n",
    "accepted_indx = np.asarray([a in accepted_labels for a in test_df.Label])\n",
    "test_df = test_df.loc[accepted_indx,:]"
   ]
  },
  {
   "cell_type": "code",
   "execution_count": 193,
   "metadata": {
    "collapsed": false
   },
   "outputs": [],
   "source": [
    "test_df.columns = ['Image','Label']\n",
    "train_df.columns = ['Image','Label']"
   ]
  },
  {
   "cell_type": "code",
   "execution_count": 208,
   "metadata": {
    "collapsed": false
   },
   "outputs": [
    {
     "data": {
      "text/plain": [
       "(427864, 7)"
      ]
     },
     "execution_count": 208,
     "metadata": {},
     "output_type": "execute_result"
    }
   ],
   "source": [
    "pca_nuc_feats.shape"
   ]
  },
  {
   "cell_type": "code",
   "execution_count": 249,
   "metadata": {
    "collapsed": false
   },
   "outputs": [
    {
     "name": "stdout",
     "output_type": "stream",
     "text": [
      "1.95152115822\n"
     ]
    }
   ],
   "source": [
    "from sklearn.cluster import MiniBatchKMeans, KMeans\n",
    "from sklearn.metrics.pairwise import pairwise_distances_argmin\n",
    "n_clusters = 5\n",
    "mbk = MiniBatchKMeans(init='k-means++', n_clusters=n_clusters, batch_size=50,\n",
    "                      n_init=10, max_no_improvement=20, verbose=0)\n",
    "t0 = time.time()\n",
    "mbk.fit(pca_nuc_feats)\n",
    "t_mini_batch = time.time() - t0\n",
    "print t_mini_batch"
   ]
  },
  {
   "cell_type": "code",
   "execution_count": 250,
   "metadata": {
    "collapsed": false
   },
   "outputs": [
    {
     "data": {
      "text/plain": [
       "[51915, 116398, 125777, 103100, 30674]"
      ]
     },
     "execution_count": 250,
     "metadata": {},
     "output_type": "execute_result"
    }
   ],
   "source": [
    "mbk_means_cluster_centers = np.sort(mbk.cluster_centers_, axis=0)\n",
    "mbk_means_labels = pairwise_distances_argmin(pca_nuc_feats, mbk_means_cluster_centers)\n",
    "[np.sum(mbk_means_labels == i) for i in np.unique(mbk_means_labels) ]"
   ]
  },
  {
   "cell_type": "code",
   "execution_count": 251,
   "metadata": {
    "collapsed": false
   },
   "outputs": [
    {
     "data": {
      "text/plain": [
       "(427864, 1)"
      ]
     },
     "execution_count": 251,
     "metadata": {},
     "output_type": "execute_result"
    }
   ],
   "source": [
    "mbk_means_labels.reshape(-1,1).shape"
   ]
  },
  {
   "cell_type": "code",
   "execution_count": 253,
   "metadata": {
    "collapsed": false
   },
   "outputs": [
    {
     "name": "stderr",
     "output_type": "stream",
     "text": [
      "/home/lun5/miniconda2/envs/sql/lib/python2.7/site-packages/matplotlib/lines.py:1145: FutureWarning: comparison to `None` will result in an elementwise object comparison in the future.\n",
      "  if self._markerfacecolor != fc:\n"
     ]
    },
    {
     "data": {
      "image/png": "[encoded data removed]",
      "text/plain": [
       "<matplotlib.figure.Figure at 0x7f8a91f09690>"
      ]
     },
     "metadata": {},
     "output_type": "display_data"
    }
   ],
   "source": [
    "fig = plt.figure(figsize=(8, 3))\n",
    "colors = ['#4EACC5', '#FF9C34', '#4E9A06']\n",
    "cmap = plt.get_cmap('jet')\n",
    "colors = cmap(np.linspace(0, 1.0, n_clusters))\n",
    "\n",
    "for k, col in zip(range(n_clusters), colors):\n",
    "    my_member = mbk_means_labels == k\n",
    "    cluster_center = mbk_means_cluster_centers[k]\n",
    "    plt.plot(pca_nuc_feats[my_member,0], pca_nuc_feats[my_member,1], 'w', markerfacecolor = col, marker = '.')"
   ]
  },
  {
   "cell_type": "code",
   "execution_count": 254,
   "metadata": {
    "collapsed": false
   },
   "outputs": [
    {
     "name": "stdout",
     "output_type": "stream",
     "text": [
      "adh36-1d_seg3_boundary_2ndPass_normalized_masked.mat  does not exist\n",
      "adh36-1d_seg4_boundary_2ndPass_normalized_masked.mat  does not exist\n",
      "adh42-1a_seg60_boundary_2ndPass_normalized_masked.mat  does not exist\n",
      "adh26-1a_seg24_boundary_2ndPass_normalized_masked.mat  have all NAN rows\n",
      "adh26-1a_seg26_boundary_2ndPass_normalized_masked.mat  have all NAN rows\n",
      "adh26-1a_seg41_boundary_2ndPass_normalized_masked.mat  have all NAN rows\n",
      "adh31-1e_seg11_boundary_2ndPass_normalized_masked.mat  does not exist\n",
      "adh32-1a_seg132_boundary_2ndPass_normalized_masked.mat  have all NAN rows\n",
      "adh38-1a_seg68_boundary_2ndPass_normalized_masked.mat  have all NAN rows\n",
      "adh26-1a_seg14_boundary_2ndPass_normalized_masked.mat  have all NAN rows\n",
      "adh30-1a_seg174_boundary_2ndPass_normalized_masked.mat  have all NAN rows\n",
      "adh32-1a_seg178_boundary_2ndPass_normalized_masked.mat  have all NAN rows\n",
      "adh35-1a_seg100_boundary_2ndPass_normalized_masked.mat  have all NAN rows\n",
      "adh35-1a_seg198_boundary_2ndPass_normalized_masked.mat  have all NAN rows\n",
      "adh36-1a_seg18_boundary_2ndPass_normalized_masked.mat  have all NAN rows\n",
      "adh37-4b_seg44_boundary_2ndPass_normalized_masked.mat  have all NAN rows\n",
      "adh37-4b_seg46_boundary_2ndPass_normalized_masked.mat  have all NAN rows\n",
      "adh37-4b_seg51_boundary_2ndPass_normalized_masked.mat  have all NAN rows\n",
      "adh38-1a_seg16_boundary_2ndPass_normalized_masked.mat  have all NAN rows\n",
      "adh38-1a_seg38_boundary_2ndPass_normalized_masked.mat  does not exist\n",
      "adh38-1a_seg44_boundary_2ndPass_normalized_masked.mat  have all NAN rows\n",
      "adh38-1a_seg55_boundary_2ndPass_normalized_masked.mat  does not exist\n"
     ]
    }
   ],
   "source": [
    "# loop through train and test and gives the classes\n",
    "kmeans_result_dir = 'ADH_5phenotypes_Feb20'\n",
    "if not os.path.isdir(os.path.join(data_dir,kmeans_result_dir)):\n",
    "    os.mkdir(os.path.join(data_dir,kmeans_result_dir))\n",
    "for imname in train_df['Image']:\n",
    "    mat_fname = imname.split('.')[0] + '_boundary_2ndPass_normalized_masked.mat'\n",
    "    if os.path.isfile(os.path.join(data_dir, nuclear_feat_dir,mat_fname)):\n",
    "        mat_dict = scipy.io.loadmat(os.path.join(data_dir, nuclear_feat_dir, mat_fname))        \n",
    "        if mat_dict['data'].shape[1] == 0:\n",
    "            print mat_fname, ' have 0 features'\n",
    "            files_no_features.append(mat_fname)\n",
    "            continue\n",
    "        data = mat_dict['data']\n",
    "        filtered_data = data[~np.isnan(data).any(axis=1),:]\n",
    "        if filtered_data.shape[0] == 0:\n",
    "            print mat_fname, ' have all NAN rows'\n",
    "            continue\n",
    "        nuc_xy = filtered_data[:,:3]\n",
    "        filtered_data = filtered_data[:,2:]\n",
    "        # zscore\n",
    "        scaled_data= scaler.transform(filtered_data)\n",
    "        # PCA\n",
    "        pca_data = pca.transform(scaled_data)\n",
    "        # predict classes\n",
    "        mbk_means_labels = pairwise_distances_argmin(pca_data, mbk_means_cluster_centers).reshape(-1,1)\n",
    "        output = np.hstack([nuc_xy, mbk_means_labels])\n",
    "        #print [np.sum(mbk_means_labels == i) for i in np.unique(mbk_means_labels) ]\n",
    "        scipy.io.savemat(file_name=os.path.join(data_dir, kmeans_result_dir, mat_fname),\n",
    "                        mdict = {'data': output})        \n",
    "    else:\n",
    "        print mat_fname, ' does not exist'\n"
   ]
  },
  {
   "cell_type": "code",
   "execution_count": 255,
   "metadata": {
    "collapsed": false
   },
   "outputs": [
    {
     "name": "stdout",
     "output_type": "stream",
     "text": [
      "adh06-1b_seg48_boundary_2ndPass_normalized_masked.mat  with label  ADH  have all NAN rows\n",
      "adh04-1b_seg15_boundary_2ndPass_normalized_masked.mat  with label  Columnar  have all NAN rows\n",
      "adh04-1b_seg6_boundary_2ndPass_normalized_masked.mat  with label  Columnar  have all NAN rows\n",
      "adh05-1a_seg13_boundary_2ndPass_normalized_masked.mat  with label  Columnar  have all NAN rows\n",
      "adh19-1b_seg12_boundary_2ndPass_normalized_masked.mat  with label  Columnar  have all NAN rows\n",
      "adh05-1a_seg16_boundary_2ndPass_normalized_masked.mat  with label  Flat Epithelial  have all NAN rows\n",
      "adh03-2a_seg58_boundary_2ndPass_normalized_masked.mat  with label  Normal Duct  have 0 features\n",
      "adh04-1a_seg21_boundary_2ndPass_normalized_masked.mat  with label  Normal Duct  have all NAN rows\n",
      "adh04-1a_seg4_boundary_2ndPass_normalized_masked.mat  with label  Normal Duct  have 0 features\n",
      "adh04-1b_seg14_boundary_2ndPass_normalized_masked.mat  with label  Normal Duct  have all NAN rows\n",
      "adh04-1b_seg18_boundary_2ndPass_normalized_masked.mat  with label  Normal Duct  have all NAN rows\n",
      "adh08-1a_seg73_boundary_2ndPass_normalized_masked.mat  with label  Normal Duct  have all NAN rows\n",
      "adh08-1b_seg25_boundary_2ndPass_normalized_masked.mat  with label  Normal Duct  have all NAN rows\n",
      "adh10-1b_seg32_boundary_2ndPass_normalized_masked.mat  with label  Normal Duct  have all NAN rows\n",
      "adh14-1a_seg106_boundary_2ndPass_normalized_masked.mat  with label  Normal Duct  have all NAN rows\n",
      "adh14-1a_seg19_boundary_2ndPass_normalized_masked.mat  with label  Normal Duct  have all NAN rows\n",
      "adh16-1a_seg39_boundary_2ndPass_normalized_masked.mat  with label  Normal Duct  have all NAN rows\n",
      "adh16-1a_seg41_boundary_2ndPass_normalized_masked.mat  with label  Normal Duct  have all NAN rows\n",
      "adh22-2b_seg46_boundary_2ndPass_normalized_masked.mat  with label  Normal Duct  does not exist\n"
     ]
    }
   ],
   "source": [
    "#for imname in test_df['Image']:\n",
    "for ii in xrange(len(test_df)):\n",
    "    imname = test_df.loc[ii, 'Image']\n",
    "    mat_fname = imname.split('.')[0] + '_boundary_2ndPass_normalized_masked.mat'\n",
    "    if os.path.isfile(os.path.join(data_dir, nuclear_feat_dir,mat_fname)):\n",
    "        mat_dict = scipy.io.loadmat(os.path.join(data_dir, nuclear_feat_dir, mat_fname))        \n",
    "        if mat_dict['data'].shape[1] == 0:\n",
    "            print mat_fname, ' with label ', test_df.loc[ii,'Label'], ' have 0 features'\n",
    "            files_no_features.append(mat_fname)\n",
    "            continue\n",
    "        data = mat_dict['data']\n",
    "        filtered_data = data[~np.isnan(data).any(axis=1),:]\n",
    "        if filtered_data.shape[0] == 0:\n",
    "            print mat_fname,' with label ', test_df.loc[ii,'Label'], ' have all NAN rows'\n",
    "            continue\n",
    "        nuc_xy = filtered_data[:,:3]\n",
    "        filtered_data = filtered_data[:,2:]\n",
    "        # zscore\n",
    "        scaled_data= scaler.transform(filtered_data)\n",
    "        # PCA\n",
    "        pca_data = pca.transform(scaled_data)\n",
    "        # predict classes\n",
    "        mbk_means_labels = pairwise_distances_argmin(pca_data, mbk_means_cluster_centers).reshape(-1,1)\n",
    "        output = np.hstack([nuc_xy, mbk_means_labels])\n",
    "        scipy.io.savemat(file_name=os.path.join(data_dir, kmeans_result_dir, mat_fname),\n",
    "                        mdict = {'data': output})        \n",
    "    else:\n",
    "        print mat_fname, ' with label ', test_df.loc[ii,'Label'], ' does not exist'"
   ]
  },
  {
   "cell_type": "code",
   "execution_count": 230,
   "metadata": {
    "collapsed": false
   },
   "outputs": [
    {
     "name": "stdout",
     "output_type": "stream",
     "text": [
      "1406\n"
     ]
    }
   ],
   "source": [
    "print len(train_df) + len(test_df) -22 -19"
   ]
  },
  {
   "cell_type": "code",
   "execution_count": 243,
   "metadata": {
    "collapsed": false
   },
   "outputs": [],
   "source": [
    "jeff_df = pd.read_csv(os.path.join(data_dir,'train_test_lists',\n",
    "                                     '2017-02-20_14-02-32.csv'))"
   ]
  },
  {
   "cell_type": "code",
   "execution_count": 247,
   "metadata": {
    "collapsed": false
   },
   "outputs": [],
   "source": [
    "jeff_df.iloc[np.arange(2,len(jeff_df),3)].to_csv(os.path.join(\n",
    "        data_dir,'train_test_lists','Jeff_annotation_Feb20.csv'))"
   ]
  },
  {
   "cell_type": "code",
   "execution_count": null,
   "metadata": {
    "collapsed": true
   },
   "outputs": [],
   "source": []
  }
 ],
 "metadata": {
  "anaconda-cloud": {},
  "kernelspec": {
   "display_name": "Python [conda env:sql]",
   "language": "python",
   "name": "conda-env-sql-py"
  },
  "language_info": {
   "codemirror_mode": {
    "name": "ipython",
    "version": 2
   },
   "file_extension": ".py",
   "mimetype": "text/x-python",
   "name": "python",
   "nbconvert_exporter": "python",
   "pygments_lexer": "ipython2",
   "version": "2.7.12"
  }
 },
 "nbformat": 4,
 "nbformat_minor": 2
}
